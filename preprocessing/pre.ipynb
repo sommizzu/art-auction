{
 "cells": [
  {
   "cell_type": "code",
   "execution_count": 1,
   "id": "94108559",
   "metadata": {},
   "outputs": [
    {
     "name": "stdout",
     "output_type": "stream",
     "text": [
      "['작가명', '작가명_영문', '작품명', '재료', '규격', '호수', '낙찰가격', '경매명', '경매회사', '경매일', 'uci_code']\n"
     ]
    }
   ],
   "source": [
    "import pandas as pd\n",
    "\n",
    "file_path = '/Users/jeongsomi/Desktop/wiset_ai/crawwing/kartmarket/k-artmarket/k_artmarket.csv'\n",
    "df = pd.read_csv(file_path)\n",
    "print(df.columns.tolist())\n"
   ]
  },
  {
   "cell_type": "code",
   "execution_count": 2,
   "id": "d68c5023",
   "metadata": {},
   "outputs": [
    {
     "data": {
      "text/plain": [
       "<bound method DataFrame.info of              작가명                작가명_영문  \\\n",
       "0            박생광      Park Saeng Kwang   \n",
       "1            이우환             Lee U Fan   \n",
       "2            서용선           Suh YongSun   \n",
       "3            우국원                   NaN   \n",
       "4        아야코 록카쿠         Ayako Rokkaku   \n",
       "...          ...                   ...   \n",
       "94555        디렌리                   NaN   \n",
       "94556  장 미셸 오토니엘  Jean-Michel Othoniel   \n",
       "94557        김응현        Kim Eung Hyeon   \n",
       "94558        김창열      Kim Tschang Yeul   \n",
       "94559         콰야                 Qwaya   \n",
       "\n",
       "                                            작품명        재료  \\\n",
       "0                                         단청 丹青  종이에 수묵채색   \n",
       "1                         Gateway to the East 7      아쿼틴트   \n",
       "2                                       지리산 원묵계  캔버스에 아크릴   \n",
       "3                             Let Them Eat Cake   디지털 프린트   \n",
       "4                                    Untitled B     실크스크린   \n",
       "...                                         ...       ...   \n",
       "94555                                   My Hero  캔버스에 아크릴   \n",
       "94556                              Plum Blossom       석판화   \n",
       "94557                                     격언 格言     종이에 먹   \n",
       "94558  L'inspecteur Est Toujours au Rendez-vous       동판화   \n",
       "94559                                  정해져 있는 길   캔버스에 유채   \n",
       "\n",
       "                                                      규격   호수     낙찰가격  경매명  \\\n",
       "0      69☓69\\r\\n                                     ...  NaN  8500000  KRW   \n",
       "1      29☓35\\r\\n                                     ...  NaN  5000000  KRW   \n",
       "2      72☓60\\r\\n                                     ...  20호  6500000  KRW   \n",
       "3      72☓90\\r\\n                                     ...  NaN  6000000  KRW   \n",
       "4                                         sheet 73×103cm  NaN  9000000  KRW   \n",
       "...                                                  ...  ...      ...  ...   \n",
       "94555  45☓45\\r\\n                                     ...  NaN  2900000  KRW   \n",
       "94556                                    sheet 40×30.6cm  NaN  1100000  KRW   \n",
       "94557  32☓123\\r\\n                                    ...  NaN   300000  KRW   \n",
       "94558  49☓64\\r\\n                                     ...  NaN  1000000  KRW   \n",
       "94559  72☓60\\r\\n                                     ...  20호  1500000  KRW   \n",
       "\n",
       "                           경매회사         경매일             uci_code  \n",
       "0      케이옥션 12월 31일 프리미엄 온라인 경매  2024-12-31  I805-PS81AAWYG15502  \n",
       "1      케이옥션 12월 31일 프리미엄 온라인 경매  2024-12-31  I805-PS98AAWWS15462  \n",
       "2      케이옥션 12월 31일 프리미엄 온라인 경매  2024-12-31  I805-PT09AAWXA15470  \n",
       "3      케이옥션 12월 31일 프리미엄 온라인 경매  2024-12-31  I805-PT22AAWYD15499  \n",
       "4      케이옥션 12월 31일 프리미엄 온라인 경매  2024-12-31  I805-PT21AAWYC15498  \n",
       "...                         ...         ...                  ...  \n",
       "94555   케이옥션 12월 30일 위클리 온라인 경매  2024-12-30  I805-PT23AAWTX15389  \n",
       "94556   케이옥션 12월 30일 위클리 온라인 경매  2024-12-30  I805-PT22AAWUY15416  \n",
       "94557   케이옥션 12월 30일 위클리 온라인 경매  2024-12-30  I805-PS77AAWVD15421  \n",
       "94558   케이옥션 12월 30일 위클리 온라인 경매  2024-12-30  I805-PS71AAWUF15397  \n",
       "94559   케이옥션 12월 30일 위클리 온라인 경매  2024-12-30  I805-PT22AAWTZ15391  \n",
       "\n",
       "[94560 rows x 11 columns]>"
      ]
     },
     "execution_count": 2,
     "metadata": {},
     "output_type": "execute_result"
    }
   ],
   "source": [
    "df.info"
   ]
  },
  {
   "cell_type": "code",
   "execution_count": 3,
   "id": "3529099d",
   "metadata": {},
   "outputs": [
    {
     "name": "stdout",
     "output_type": "stream",
     "text": [
      "각 열별 null 값 갯수:\n",
      " 작가명             0\n",
      "작가명_영문      17182\n",
      "작품명             0\n",
      "재료           3940\n",
      "규격              0\n",
      "호수          63925\n",
      "낙찰가격            0\n",
      "경매명             0\n",
      "경매회사            0\n",
      "경매일             0\n",
      "uci_code     3940\n",
      "dtype: int64\n"
     ]
    }
   ],
   "source": [
    "null_counts = df.isnull().sum()\n",
    "print(\"각 열별 null 값 갯수:\\n\", null_counts)"
   ]
  },
  {
   "cell_type": "code",
   "execution_count": 4,
   "id": "541e6df9",
   "metadata": {},
   "outputs": [
    {
     "name": "stdout",
     "output_type": "stream",
     "text": [
      "      작가명 작가명_영문                    작품명   재료              규격   호수     낙찰가격  \\\n",
      "5       -    NaN  청자철화초문유병 외 靑磁鐵畫草文油甁 外  NaN  8×6(h)cm 외, 3점  NaN  3500000   \n",
      "29      -    NaN  청자철화초문유병 외 靑磁鐵畫草文油甁 外  NaN  8×6(h)cm 외, 3점  NaN  3500000   \n",
      "53      -    NaN  청자철화초문유병 외 靑磁鐵畫草文油甁 外  NaN  8×6(h)cm 외, 3점  NaN  3500000   \n",
      "77      -    NaN  청자철화초문유병 외 靑磁鐵畫草文油甁 外  NaN  8×6(h)cm 외, 3점  NaN  3500000   \n",
      "103     -    NaN  청자철화초문유병 외 靑磁鐵畫草文油甁 外  NaN  8×6(h)cm 외, 3점  NaN  3500000   \n",
      "...    ..    ...                    ...  ...             ...  ...      ...   \n",
      "94452   -    NaN  청자철화초문유병 외 靑磁鐵畫草文油甁 外  NaN  8×6(h)cm 외, 3점  NaN  3500000   \n",
      "94476   -    NaN  청자철화초문유병 외 靑磁鐵畫草文油甁 外  NaN  8×6(h)cm 외, 3점  NaN  3500000   \n",
      "94489   -    NaN  청자철화초문유병 외 靑磁鐵畫草文油甁 外  NaN  8×6(h)cm 외, 3점  NaN  3500000   \n",
      "94513   -    NaN  청자철화초문유병 외 靑磁鐵畫草文油甁 外  NaN  8×6(h)cm 외, 3점  NaN  3500000   \n",
      "94540   -    NaN  청자철화초문유병 외 靑磁鐵畫草文油甁 外  NaN  8×6(h)cm 외, 3점  NaN  3500000   \n",
      "\n",
      "       경매명                      경매회사         경매일 uci_code  \n",
      "5      KRW  케이옥션 12월 31일 프리미엄 온라인 경매  2024-12-31      NaN  \n",
      "29     KRW  케이옥션 12월 31일 프리미엄 온라인 경매  2024-12-31      NaN  \n",
      "53     KRW  케이옥션 12월 31일 프리미엄 온라인 경매  2024-12-31      NaN  \n",
      "77     KRW  케이옥션 12월 31일 프리미엄 온라인 경매  2024-12-31      NaN  \n",
      "103    KRW  케이옥션 12월 31일 프리미엄 온라인 경매  2024-12-31      NaN  \n",
      "...    ...                       ...         ...      ...  \n",
      "94452  KRW  케이옥션 12월 31일 프리미엄 온라인 경매  2024-12-31      NaN  \n",
      "94476  KRW  케이옥션 12월 31일 프리미엄 온라인 경매  2024-12-31      NaN  \n",
      "94489  KRW  케이옥션 12월 31일 프리미엄 온라인 경매  2024-12-31      NaN  \n",
      "94513  KRW  케이옥션 12월 31일 프리미엄 온라인 경매  2024-12-31      NaN  \n",
      "94540  KRW  케이옥션 12월 31일 프리미엄 온라인 경매  2024-12-31      NaN  \n",
      "\n",
      "[3940 rows x 11 columns]\n"
     ]
    }
   ],
   "source": [
    "#null 값 X, '작가명'이 '-'인 행만 추출\n",
    "rows_with_dash_artist = df[df['작가명'] == '-']\n",
    "print(rows_with_dash_artist)"
   ]
  },
  {
   "cell_type": "code",
   "execution_count": 5,
   "id": "6204722f",
   "metadata": {},
   "outputs": [],
   "source": [
    "df2 = df[df['작가명'] != '-'].copy()\n",
    "df2['낙찰가격'] = pd.to_numeric(df2['낙찰가격'], errors='coerce')"
   ]
  },
  {
   "cell_type": "code",
   "execution_count": 6,
   "id": "092c0ab0",
   "metadata": {},
   "outputs": [
    {
     "name": "stdout",
     "output_type": "stream",
     "text": [
      "<class 'pandas.core.frame.DataFrame'>\n",
      "Index: 90620 entries, 0 to 94559\n",
      "Data columns (total 11 columns):\n",
      " #   Column    Non-Null Count  Dtype \n",
      "---  ------    --------------  ----- \n",
      " 0   작가명       90620 non-null  object\n",
      " 1   작가명_영문    77378 non-null  object\n",
      " 2   작품명       90620 non-null  object\n",
      " 3   재료        90620 non-null  object\n",
      " 4   규격        90620 non-null  object\n",
      " 5   호수        30635 non-null  object\n",
      " 6   낙찰가격      90620 non-null  int64 \n",
      " 7   경매명       90620 non-null  object\n",
      " 8   경매회사      90620 non-null  object\n",
      " 9   경매일       90620 non-null  object\n",
      " 10  uci_code  90620 non-null  object\n",
      "dtypes: int64(1), object(10)\n",
      "memory usage: 8.3+ MB\n"
     ]
    }
   ],
   "source": [
    "df2.info()"
   ]
  },
  {
   "cell_type": "code",
   "execution_count": 7,
   "id": "30b63b25",
   "metadata": {},
   "outputs": [
    {
     "name": "stdout",
     "output_type": "stream",
     "text": [
      "['69☓69\\r\\n                                                         cm'\n",
      " '29☓35\\r\\n                                                         cm'\n",
      " '72☓60\\r\\n                                                         cm'\n",
      " '72☓90\\r\\n                                                         cm'\n",
      " 'sheet 73×103cm' 'sheet 78×60.5cm'\n",
      " '53☓45\\r\\n                                                         cm'\n",
      " '100☓50\\r\\n                                                         cm'\n",
      " '130☓162\\r\\n                                                         cm'\n",
      " '162☓97\\r\\n                                                         cm'\n",
      " '33☓40\\r\\n                                                         cm'\n",
      " 'sheet 100×75cm'\n",
      " '60☓72\\r\\n                                                         cm'\n",
      " '65☓90\\r\\n                                                         cm'\n",
      " '90☓65\\r\\n                                                         cm'\n",
      " '313☓92\\r\\n                                                         cm'\n",
      " '59☓59\\r\\n                                                         cm'\n",
      " 'sheet 76.5×56cm'\n",
      " '49☓64\\r\\n                                                         cm'\n",
      " '45☓45\\r\\n                                                         cm'\n",
      " '32☓123\\r\\n                                                         cm'\n",
      " '45☓53\\r\\n                                                         cm'\n",
      " 'sheet 83×60cm'\n",
      " '60☓60\\r\\n                                                         cm'\n",
      " '45☓37\\r\\n                                                         cm'\n",
      " '80☓100\\r\\n                                                         cm'\n",
      " '45☓29\\r\\n                                                         cm'\n",
      " '68☓50\\r\\n                                                         cm'\n",
      " '69☓49\\r\\n                                                         cm'\n",
      " 'sheet 40×30.6cm' 'each 119×40cm, 10폭'\n",
      " '64☓43\\r\\n                                                         cm'\n",
      " '70☓60\\r\\n                                                         cm'\n",
      " '61☓76\\r\\n                                                         cm']\n"
     ]
    }
   ],
   "source": [
    "#규격 값 확인\n",
    "print(df2['규격'].unique())"
   ]
  },
  {
   "cell_type": "code",
   "execution_count": 8,
   "id": "4083c662",
   "metadata": {},
   "outputs": [
    {
     "name": "stdout",
     "output_type": "stream",
     "text": [
      "작가명 유니크 값 개수: 35\n",
      "작가별 작품 수:\n",
      " 작가명\n",
      "이우환          5406\n",
      "신흥우          4800\n",
      "박생광          3940\n",
      "최영림          3940\n",
      "강익중          3940\n",
      "허건           3940\n",
      "최울가          3940\n",
      "김수수          3940\n",
      "고재권          3940\n",
      "캐서린 번하드      3940\n",
      "박서보          3940\n",
      "유선태          3940\n",
      "오승윤          3940\n",
      "이배           3940\n",
      "아야코 록카쿠      3940\n",
      "우국원          3940\n",
      "서용선          3940\n",
      "진영           3940\n",
      "김창열          2203\n",
      "김종학          1408\n",
      "락사마나 료       1400\n",
      "김응현          1399\n",
      "장 미셸 오토니엘    1383\n",
      "이왈종          1358\n",
      "임경수          1118\n",
      "이건용          1026\n",
      "허백련           915\n",
      "빅토르 바자렐리      866\n",
      "콰야            789\n",
      "디렌리           722\n",
      "김영환           706\n",
      "이동욱           700\n",
      "김태호           546\n",
      "제이드 킴         474\n",
      "아담 핸들러        361\n",
      "Name: count, dtype: int64\n"
     ]
    }
   ],
   "source": [
    "# 1. 작가명 컬럼의 유니크 값 개수 세기\n",
    "unique_artist_count = df2['작가명'].nunique()\n",
    "print(\"작가명 유니크 값 개수:\", unique_artist_count)\n",
    "\n",
    "# 2. 작가별 작품 수 세기\n",
    "artist_counts = df2['작가명'].value_counts()\n",
    "print(\"작가별 작품 수:\\n\", artist_counts)"
   ]
  },
  {
   "cell_type": "code",
   "execution_count": 9,
   "id": "a2f18608",
   "metadata": {},
   "outputs": [
    {
     "name": "stdout",
     "output_type": "stream",
     "text": [
      "          작가명          mean       max\n",
      "0         강익중  6.000000e+06   6000000\n",
      "1         고재권  3.000000e+06   3000000\n",
      "2         김수수  5.000000e+06   5000000\n",
      "3         김영환  6.000000e+05    600000\n",
      "4         김응현  3.000000e+05    300000\n",
      "5         김종학  1.600000e+06   1600000\n",
      "6         김창열  1.290513e+06   1500000\n",
      "7         김태호  1.500000e+06   1500000\n",
      "8         디렌리  2.900000e+06   2900000\n",
      "9      락사마나 료  2.100000e+06   2100000\n",
      "10        박생광  8.500000e+06   8500000\n",
      "11        박서보  1.500000e+07  15000000\n",
      "12   빅토르 바자렐리  5.000000e+05    500000\n",
      "13        서용선  6.500000e+06   6500000\n",
      "14        신흥우  8.925000e+06  10000000\n",
      "15     아담 핸들러  3.400000e+06   3400000\n",
      "16    아야코 록카쿠  9.000000e+06   9000000\n",
      "17        오승윤  1.100000e+07  11000000\n",
      "18        우국원  6.000000e+06   6000000\n",
      "19        유선태  6.000000e+06   6000000\n",
      "20        이건용  2.000000e+06   2000000\n",
      "21        이동욱  1.500000e+06   1500000\n",
      "22         이배  6.000000e+06   6000000\n",
      "23        이왈종  6.500000e+06   6500000\n",
      "24        이우환  5.271180e+06   6000000\n",
      "25        임경수  6.000000e+05    600000\n",
      "26  장 미셸 오토니엘  1.100000e+06   1100000\n",
      "27      제이드 킴  3.200000e+06   3200000\n",
      "28         진영  5.000000e+06   5000000\n",
      "29        최영림  4.600000e+06   4600000\n",
      "30        최울가  5.000000e+06   5000000\n",
      "31    캐서린 번하드  4.000000e+06   4000000\n",
      "32         콰야  1.500000e+06   1500000\n",
      "33         허건  2.500000e+06   2500000\n",
      "34        허백련  1.200000e+06   1200000\n"
     ]
    }
   ],
   "source": [
    "# '낙찰가격' 컬럼이 숫자형이 아닐 경우 숫자형으로 변환\n",
    "df2['낙찰가격'] = pd.to_numeric(df2['낙찰가격'], errors='coerce')\n",
    "\n",
    "# 작가별 평균값과 최고값 구하기\n",
    "artist_price_stats = df2.groupby('작가명')['낙찰가격'].agg(['mean', 'max']).reset_index()\n",
    "\n",
    "# 결과 출력\n",
    "print(artist_price_stats)"
   ]
  },
  {
   "cell_type": "code",
   "execution_count": 11,
   "id": "1e38b388",
   "metadata": {},
   "outputs": [
    {
     "name": "stdout",
     "output_type": "stream",
     "text": [
      "             작가명                작가명_영문  \\\n",
      "0            박생광      Park Saeng Kwang   \n",
      "1            이우환             Lee U Fan   \n",
      "2            서용선           Suh YongSun   \n",
      "3            우국원                   NaN   \n",
      "4        아야코 록카쿠         Ayako Rokkaku   \n",
      "...          ...                   ...   \n",
      "94555        디렌리                   NaN   \n",
      "94556  장 미셸 오토니엘  Jean-Michel Othoniel   \n",
      "94557        김응현        Kim Eung Hyeon   \n",
      "94558        김창열      Kim Tschang Yeul   \n",
      "94559         콰야                 Qwaya   \n",
      "\n",
      "                                            작품명        재료  \\\n",
      "0                                         단청 丹青  종이에 수묵채색   \n",
      "1                         Gateway to the East 7      아쿼틴트   \n",
      "2                                       지리산 원묵계  캔버스에 아크릴   \n",
      "3                             Let Them Eat Cake   디지털 프린트   \n",
      "4                                    Untitled B     실크스크린   \n",
      "...                                         ...       ...   \n",
      "94555                                   My Hero  캔버스에 아크릴   \n",
      "94556                              Plum Blossom       석판화   \n",
      "94557                                     격언 格言     종이에 먹   \n",
      "94558  L'inspecteur Est Toujours au Rendez-vous       동판화   \n",
      "94559                                  정해져 있는 길   캔버스에 유채   \n",
      "\n",
      "                                                      규격   호수     낙찰가격  경매명  \\\n",
      "0      69☓69\\r\\n                                     ...  NaN  8500000  KRW   \n",
      "1      29☓35\\r\\n                                     ...  NaN  5000000  KRW   \n",
      "2      72☓60\\r\\n                                     ...  20호  6500000  KRW   \n",
      "3      72☓90\\r\\n                                     ...  NaN  6000000  KRW   \n",
      "4                                         sheet 73×103cm  NaN  9000000  KRW   \n",
      "...                                                  ...  ...      ...  ...   \n",
      "94555  45☓45\\r\\n                                     ...  NaN  2900000  KRW   \n",
      "94556                                    sheet 40×30.6cm  NaN  1100000  KRW   \n",
      "94557  32☓123\\r\\n                                    ...  NaN   300000  KRW   \n",
      "94558  49☓64\\r\\n                                     ...  NaN  1000000  KRW   \n",
      "94559  72☓60\\r\\n                                     ...  20호  1500000  KRW   \n",
      "\n",
      "                           경매회사         경매일             uci_code  \n",
      "0      케이옥션 12월 31일 프리미엄 온라인 경매  2024-12-31  I805-PS81AAWYG15502  \n",
      "1      케이옥션 12월 31일 프리미엄 온라인 경매  2024-12-31  I805-PS98AAWWS15462  \n",
      "2      케이옥션 12월 31일 프리미엄 온라인 경매  2024-12-31  I805-PT09AAWXA15470  \n",
      "3      케이옥션 12월 31일 프리미엄 온라인 경매  2024-12-31  I805-PT22AAWYD15499  \n",
      "4      케이옥션 12월 31일 프리미엄 온라인 경매  2024-12-31  I805-PT21AAWYC15498  \n",
      "...                         ...         ...                  ...  \n",
      "94555   케이옥션 12월 30일 위클리 온라인 경매  2024-12-30  I805-PT23AAWTX15389  \n",
      "94556   케이옥션 12월 30일 위클리 온라인 경매  2024-12-30  I805-PT22AAWUY15416  \n",
      "94557   케이옥션 12월 30일 위클리 온라인 경매  2024-12-30  I805-PS77AAWVD15421  \n",
      "94558   케이옥션 12월 30일 위클리 온라인 경매  2024-12-30  I805-PS71AAWUF15397  \n",
      "94559   케이옥션 12월 30일 위클리 온라인 경매  2024-12-30  I805-PT22AAWTZ15391  \n",
      "\n",
      "[90620 rows x 11 columns]\n"
     ]
    }
   ],
   "source": [
    "# 작가명-uci_code 조합이 중복되는 경우 찾기\n",
    "duplicates = df2.duplicated(subset=['작가명', 'uci_code'], keep=False)\n",
    "\n",
    "# 중복된 조합만 출력\n",
    "duplicated_rows = df2[duplicates]\n",
    "\n",
    "print(duplicated_rows)\n"
   ]
  },
  {
   "cell_type": "code",
   "execution_count": 12,
   "id": "bf51850a",
   "metadata": {},
   "outputs": [],
   "source": [
    "# '작가명'과 'uci_code'가 중복된 행 찾기\n",
    "duplicates = df2.duplicated(subset=['작가명', 'uci_code'], keep=False)\n",
    "duplicated_rows = df2[duplicates]\n",
    "\n",
    "# 파일로 저장\n",
    "file_name = 'duplicated_artist_uci_code.csv'\n",
    "duplicated_rows.to_csv(file_name, index=False)\n"
   ]
  }
 ],
 "metadata": {
  "kernelspec": {
   "display_name": "wiset_ai",
   "language": "python",
   "name": "python3"
  },
  "language_info": {
   "codemirror_mode": {
    "name": "ipython",
    "version": 3
   },
   "file_extension": ".py",
   "mimetype": "text/x-python",
   "name": "python",
   "nbconvert_exporter": "python",
   "pygments_lexer": "ipython3",
   "version": "3.12.9"
  }
 },
 "nbformat": 4,
 "nbformat_minor": 5
}
